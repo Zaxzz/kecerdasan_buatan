{
  "nbformat": 4,
  "nbformat_minor": 0,
  "metadata": {
    "colab": {
      "provenance": [],
      "toc_visible": true,
      "authorship_tag": "ABX9TyP6gP1d9xCOH/Bo47LJXeZz",
      "include_colab_link": true
    },
    "kernelspec": {
      "name": "python3",
      "display_name": "Python 3"
    },
    "language_info": {
      "name": "python"
    }
  },
  "cells": [
    {
      "cell_type": "markdown",
      "metadata": {
        "id": "view-in-github",
        "colab_type": "text"
      },
      "source": [
        "<a href=\"https://colab.research.google.com/github/Zaxzz/kecerdasan_buatan/blob/main/statis_deskriptif.ipynb\" target=\"_parent\"><img src=\"https://colab.research.google.com/assets/colab-badge.svg\" alt=\"Open In Colab\"/></a>"
      ]
    },
    {
      "cell_type": "markdown",
      "source": [
        "# JOBSHEET3"
      ],
      "metadata": {
        "id": "j69D72acZkAy"
      }
    },
    {
      "cell_type": "markdown",
      "source": [
        "# PENGUKURAN STATISTIK DESKRIPTIF"
      ],
      "metadata": {
        "id": "WE-BJWx_ZpE3"
      }
    },
    {
      "cell_type": "markdown",
      "source": [
        "## 1.\tCentral Tendency"
      ],
      "metadata": {
        "id": "G4tFGPzYZyBS"
      }
    },
    {
      "cell_type": "code",
      "source": [
        "import numpy as np\n",
        "\n",
        "score = [90, 80, 70, 65, 110, 80, 83, 67, 94]\n",
        "\n",
        "x = np.mean(score)\n",
        "print(\"Rata-rata skor:\", x)\n"
      ],
      "metadata": {
        "colab": {
          "base_uri": "https://localhost:8080/"
        },
        "id": "ooCLaOmfZ3cS",
        "outputId": "583bbc61-3fe1-44fb-8816-a2e88c29fdc7"
      },
      "execution_count": null,
      "outputs": [
        {
          "output_type": "stream",
          "name": "stdout",
          "text": [
            "Rata-rata skor: 82.11111111111111\n"
          ]
        }
      ]
    },
    {
      "cell_type": "code",
      "source": [
        "import numpy as np\n",
        "\n",
        "score = [90, 80, 70, 65, 110, 80, 83, 67, 94]\n",
        "\n",
        "x = np.median(score)\n",
        "print(\"Median skor:\", x)\n"
      ],
      "metadata": {
        "colab": {
          "base_uri": "https://localhost:8080/"
        },
        "id": "3z5gD9nKZ9GK",
        "outputId": "401b8e5b-e114-4bfa-dbca-05e395881053"
      },
      "execution_count": null,
      "outputs": [
        {
          "output_type": "stream",
          "name": "stdout",
          "text": [
            "Median skor: 80.0\n"
          ]
        }
      ]
    },
    {
      "cell_type": "code",
      "source": [
        "from scipy import stats\n",
        "\n",
        "score = [90, 80, 70, 65, 110, 80, 83, 67, 94]\n",
        "\n",
        "x = stats.mode(score, keepdims=True)\n",
        "print(\"Modus skor:\", x)\n"
      ],
      "metadata": {
        "colab": {
          "base_uri": "https://localhost:8080/"
        },
        "id": "88M1b2QAaDf2",
        "outputId": "2e125d2a-9cfa-4e47-a516-ccad420bb5d7"
      },
      "execution_count": null,
      "outputs": [
        {
          "output_type": "stream",
          "name": "stdout",
          "text": [
            "Modus skor: ModeResult(mode=array([80]), count=array([2]))\n"
          ]
        }
      ]
    },
    {
      "cell_type": "markdown",
      "source": [
        "## 2. Spread"
      ],
      "metadata": {
        "id": "1K8936zgaNly"
      }
    },
    {
      "cell_type": "code",
      "source": [
        "import numpy as np\n",
        "\n",
        "data = [2, 3, 7, 8, 9, 12, 15, 20, 50, 42]\n",
        "\n",
        "minimum = np.min(data)\n",
        "maximum = np.max(data)\n",
        "x = maximum - minimum\n",
        "print(\"Range (selisih maksimum dan minimum):\", x)\n"
      ],
      "metadata": {
        "colab": {
          "base_uri": "https://localhost:8080/"
        },
        "id": "Zp4fqNBKaRCl",
        "outputId": "b4b7af23-5d78-4c55-e66a-195094dd2c99"
      },
      "execution_count": null,
      "outputs": [
        {
          "output_type": "stream",
          "name": "stdout",
          "text": [
            "Range (selisih maksimum dan minimum): 48\n"
          ]
        }
      ]
    },
    {
      "cell_type": "code",
      "source": [
        "import numpy as np\n",
        "\n",
        "data = [90, 80, 70, 65, 110, 80, 83, 67, 94]\n",
        "\n",
        "x = np.percentile(data, 90)\n",
        "print(\"Persentil ke-90:\", x)\n"
      ],
      "metadata": {
        "colab": {
          "base_uri": "https://localhost:8080/"
        },
        "id": "HK4na9B-afgf",
        "outputId": "79eb87d0-e377-47e1-a528-9371367f1a7f"
      },
      "execution_count": null,
      "outputs": [
        {
          "output_type": "stream",
          "name": "stdout",
          "text": [
            "Persentil ke-90: 97.2\n"
          ]
        }
      ]
    },
    {
      "cell_type": "code",
      "source": [
        "import numpy as np\n",
        "\n",
        "data = [3, 4, 4, 5, 5, 6, 6, 7, 8, 8, 9, 10]\n",
        "\n",
        "Q1 = np.median(data[:int(len(data)/2)])\n",
        "Q3 = np.median(data[int(len(data)/2):])\n",
        "IQR = Q3 - Q1\n",
        "print(\"Q1:\", Q1)\n",
        "print(\"Q3:\", Q3)\n",
        "print(\"IQR:\", IQR)\n"
      ],
      "metadata": {
        "colab": {
          "base_uri": "https://localhost:8080/"
        },
        "id": "1NKI3yv6keYW",
        "outputId": "3ad90bc7-b57f-45d7-a1d8-3ae0f0f51256"
      },
      "execution_count": null,
      "outputs": [
        {
          "output_type": "stream",
          "name": "stdout",
          "text": [
            "Q1: 4.5\n",
            "Q3: 8.0\n",
            "IQR: 3.5\n"
          ]
        }
      ]
    },
    {
      "cell_type": "code",
      "source": [
        "import numpy as np\n",
        "\n",
        "data = [86, 87, 88, 86, 87, 85, 86]\n",
        "\n",
        "mean = np.mean(data)\n",
        "var = np.var(data)\n",
        "std = np.std(data)\n",
        "print(\"Mean:\", mean)\n",
        "print(\"Variance:\", var)\n",
        "print(\"Standard Deviation:\", std)\n"
      ],
      "metadata": {
        "colab": {
          "base_uri": "https://localhost:8080/"
        },
        "id": "KVHx0LoWkt7b",
        "outputId": "36d7f196-8db7-475b-fa43-9a7a8d1609ff"
      },
      "execution_count": null,
      "outputs": [
        {
          "output_type": "stream",
          "name": "stdout",
          "text": [
            "Mean: 86.42857142857143\n",
            "Variance: 0.8163265306122449\n",
            "Standard Deviation: 0.9035079029052513\n"
          ]
        }
      ]
    },
    {
      "cell_type": "markdown",
      "source": [
        "## Tugas Praktikum"
      ],
      "metadata": {
        "id": "vLpz9is5k85L"
      }
    },
    {
      "cell_type": "code",
      "source": [
        "# NOMER 1\n",
        "from scipy import stats\n",
        "\n",
        "data = [1, 2, 3, 4, 5, 5, 6, 2, 3, 4, 5, 6, 6, 4, 3, 2, 1, 4, 3, 5, 6, 6, 5, 4, 5]\n",
        "\n",
        "x = stats.mode(data, keepdims=True)\n",
        "print(\"Modus:\", x.mode[0])\n",
        "print(\"Jumlah kemunculan:\", x.count[0])\n"
      ],
      "metadata": {
        "colab": {
          "base_uri": "https://localhost:8080/"
        },
        "id": "4NILVWiXlA-k",
        "outputId": "be44bac0-bc4f-43ab-eb22-3b8598427796"
      },
      "execution_count": 3,
      "outputs": [
        {
          "output_type": "stream",
          "name": "stdout",
          "text": [
            "Modus: 5\n",
            "Jumlah kemunculan: 6\n"
          ]
        }
      ]
    },
    {
      "cell_type": "code",
      "source": [
        "# NOMER 2\n",
        "import numpy as np\n",
        "\n",
        "data = [9, 10, 11, 6, 8, 7, 7, 5, 4, 5]\n",
        "\n",
        "p25 = np.percentile(data, 25)\n",
        "p75 = np.percentile(data, 75)\n",
        "print(\"Persentil ke-25:\", p25)\n",
        "print(\"Persentil ke-75:\", p75)\n"
      ],
      "metadata": {
        "colab": {
          "base_uri": "https://localhost:8080/"
        },
        "id": "T8O-WX3wlT5Q",
        "outputId": "1d90485c-a81b-46a6-ce07-23e71509b843"
      },
      "execution_count": 4,
      "outputs": [
        {
          "output_type": "stream",
          "name": "stdout",
          "text": [
            "Persentil ke-25: 5.25\n",
            "Persentil ke-75: 8.75\n"
          ]
        }
      ]
    },
    {
      "cell_type": "code",
      "source": [
        "# NOMER 3\n",
        "import numpy as np\n",
        "\n",
        "# data ujian\n",
        "data = [50, 54, 62, 50, 52, 59, 61, 63, 65, 10, 53, 63, 65, 50, 59, 62, 50, 51, 57, 60, 63, 65, 65, 53, 99]\n",
        "\n",
        "# a. urutkan data\n",
        "data_sorted = sorted(data)\n",
        "print(\"a. Data Terurut:\")\n",
        "print(data_sorted)\n",
        "\n",
        "# b. hitung Q1, Q3, dan IQR\n",
        "q1 = np.percentile(data_sorted, 25)\n",
        "q3 = np.percentile(data_sorted, 75)\n",
        "iqr = q3 - q1\n",
        "\n",
        "print(\"\\nb. Q1:\", q1)\n",
        "print(\"   Q3:\", q3)\n",
        "print(\"   IQR:\", iqr)\n",
        "\n",
        "# c. hitung lower bound dan upper bound\n",
        "lower_bound = q1 - 1.5 * iqr\n",
        "upper_bound = q3 + 1.5 * iqr\n",
        "\n",
        "print(\"\\nc. Lower Bound:\", lower_bound)\n",
        "print(\"   Upper Bound:\", upper_bound)\n",
        "\n",
        "# d. cari outlier\n",
        "outliers = [x for x in data_sorted if x < lower_bound or x > upper_bound]\n",
        "print(\"\\nd. Outlier:\")\n",
        "print(outliers)\n"
      ],
      "metadata": {
        "id": "nFDHOYZIlU6r",
        "colab": {
          "base_uri": "https://localhost:8080/"
        },
        "outputId": "4e622271-a2f3-4909-b02e-86b611017d9c"
      },
      "execution_count": 5,
      "outputs": [
        {
          "output_type": "stream",
          "name": "stdout",
          "text": [
            "a. Data Terurut:\n",
            "[10, 50, 50, 50, 50, 51, 52, 53, 53, 54, 57, 59, 59, 60, 61, 62, 62, 63, 63, 63, 65, 65, 65, 65, 99]\n",
            "\n",
            "b. Q1: 52.0\n",
            "   Q3: 63.0\n",
            "   IQR: 11.0\n",
            "\n",
            "c. Lower Bound: 35.5\n",
            "   Upper Bound: 79.5\n",
            "\n",
            "d. Outlier:\n",
            "[10, 99]\n"
          ]
        }
      ]
    },
    {
      "cell_type": "code",
      "source": [
        "# NOMER 4\n",
        "import numpy as np\n",
        "\n",
        "# batas kelas dan frekuensi\n",
        "kelas = [(41, 45), (46, 50), (50, 55), (56, 60), (61, 65), (66, 70)]\n",
        "frekuensi = [2, 3, 6, 4, 5, 2]\n",
        "\n",
        "# hitung titik tengah\n",
        "titik_tengah = [ (bawah + atas) / 2 for bawah, atas in kelas ]\n",
        "\n",
        "# hitung f * xi dan f * xi^2\n",
        "fx = [f * x for f, x in zip(frekuensi, titik_tengah)]\n",
        "fx2 = [f * x**2 for f, x in zip(frekuensi, titik_tengah)]\n",
        "\n",
        "# jumlah frekuensi\n",
        "total_f = sum(frekuensi)\n",
        "\n",
        "# rumus standar deviasi\n",
        "rata_rata_kuadrat = sum(fx2) / total_f\n",
        "kuadrat_rata_rata = (sum(fx) / total_f) ** 2\n",
        "std_dev = np.sqrt(rata_rata_kuadrat - kuadrat_rata_rata)\n",
        "\n",
        "print(\"Standar Deviasi Berat Badan:\", round(std_dev, 2))\n"
      ],
      "metadata": {
        "id": "4jQWAzcDhatU",
        "outputId": "25457398-94a4-42d0-a05a-aa2fc7b2ad11",
        "colab": {
          "base_uri": "https://localhost:8080/"
        }
      },
      "execution_count": 6,
      "outputs": [
        {
          "output_type": "stream",
          "name": "stdout",
          "text": [
            "Standar Deviasi Berat Badan: 7.24\n"
          ]
        }
      ]
    }
  ]
}