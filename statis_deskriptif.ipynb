{
  "nbformat": 4,
  "nbformat_minor": 0,
  "metadata": {
    "colab": {
      "provenance": [],
      "toc_visible": true,
      "authorship_tag": "ABX9TyOrLwDpttQ4Tyo/oUSHjOcm",
      "include_colab_link": true
    },
    "kernelspec": {
      "name": "python3",
      "display_name": "Python 3"
    },
    "language_info": {
      "name": "python"
    }
  },
  "cells": [
    {
      "cell_type": "markdown",
      "metadata": {
        "id": "view-in-github",
        "colab_type": "text"
      },
      "source": [
        "<a href=\"https://colab.research.google.com/github/Zaxzz/kecerdasan_buatan/blob/main/statis_deskriptif.ipynb\" target=\"_parent\"><img src=\"https://colab.research.google.com/assets/colab-badge.svg\" alt=\"Open In Colab\"/></a>"
      ]
    },
    {
      "cell_type": "markdown",
      "source": [
        "# JOBSHEET3"
      ],
      "metadata": {
        "id": "j69D72acZkAy"
      }
    },
    {
      "cell_type": "markdown",
      "source": [
        "# PENGUKURAN STATISTIK DESKRIPTIF"
      ],
      "metadata": {
        "id": "WE-BJWx_ZpE3"
      }
    },
    {
      "cell_type": "markdown",
      "source": [
        "## 1.\tCentral Tendency"
      ],
      "metadata": {
        "id": "G4tFGPzYZyBS"
      }
    },
    {
      "cell_type": "code",
      "source": [
        "import numpy as np\n",
        "\n",
        "score = [90, 80, 70, 65, 110, 80, 83, 67, 94]\n",
        "\n",
        "x = np.mean(score)\n",
        "print(\"Rata-rata skor:\", x)\n"
      ],
      "metadata": {
        "colab": {
          "base_uri": "https://localhost:8080/"
        },
        "id": "ooCLaOmfZ3cS",
        "outputId": "583bbc61-3fe1-44fb-8816-a2e88c29fdc7"
      },
      "execution_count": null,
      "outputs": [
        {
          "output_type": "stream",
          "name": "stdout",
          "text": [
            "Rata-rata skor: 82.11111111111111\n"
          ]
        }
      ]
    },
    {
      "cell_type": "code",
      "source": [
        "import numpy as np\n",
        "\n",
        "score = [90, 80, 70, 65, 110, 80, 83, 67, 94]\n",
        "\n",
        "x = np.median(score)\n",
        "print(\"Median skor:\", x)\n"
      ],
      "metadata": {
        "colab": {
          "base_uri": "https://localhost:8080/"
        },
        "id": "3z5gD9nKZ9GK",
        "outputId": "401b8e5b-e114-4bfa-dbca-05e395881053"
      },
      "execution_count": null,
      "outputs": [
        {
          "output_type": "stream",
          "name": "stdout",
          "text": [
            "Median skor: 80.0\n"
          ]
        }
      ]
    },
    {
      "cell_type": "code",
      "source": [
        "from scipy import stats\n",
        "\n",
        "score = [90, 80, 70, 65, 110, 80, 83, 67, 94]\n",
        "\n",
        "x = stats.mode(score, keepdims=True)\n",
        "print(\"Modus skor:\", x)\n"
      ],
      "metadata": {
        "colab": {
          "base_uri": "https://localhost:8080/"
        },
        "id": "88M1b2QAaDf2",
        "outputId": "2e125d2a-9cfa-4e47-a516-ccad420bb5d7"
      },
      "execution_count": null,
      "outputs": [
        {
          "output_type": "stream",
          "name": "stdout",
          "text": [
            "Modus skor: ModeResult(mode=array([80]), count=array([2]))\n"
          ]
        }
      ]
    },
    {
      "cell_type": "markdown",
      "source": [
        "## 2. Spread"
      ],
      "metadata": {
        "id": "1K8936zgaNly"
      }
    },
    {
      "cell_type": "code",
      "source": [
        "import numpy as np\n",
        "\n",
        "data = [2, 3, 7, 8, 9, 12, 15, 20, 50, 42]\n",
        "\n",
        "minimum = np.min(data)\n",
        "maximum = np.max(data)\n",
        "x = maximum - minimum\n",
        "print(\"Range (selisih maksimum dan minimum):\", x)\n"
      ],
      "metadata": {
        "colab": {
          "base_uri": "https://localhost:8080/"
        },
        "id": "Zp4fqNBKaRCl",
        "outputId": "b4b7af23-5d78-4c55-e66a-195094dd2c99"
      },
      "execution_count": null,
      "outputs": [
        {
          "output_type": "stream",
          "name": "stdout",
          "text": [
            "Range (selisih maksimum dan minimum): 48\n"
          ]
        }
      ]
    },
    {
      "cell_type": "code",
      "source": [
        "import numpy as np\n",
        "\n",
        "data = [90, 80, 70, 65, 110, 80, 83, 67, 94]\n",
        "\n",
        "x = np.percentile(data, 90)\n",
        "print(\"Persentil ke-90:\", x)\n"
      ],
      "metadata": {
        "colab": {
          "base_uri": "https://localhost:8080/"
        },
        "id": "HK4na9B-afgf",
        "outputId": "79eb87d0-e377-47e1-a528-9371367f1a7f"
      },
      "execution_count": null,
      "outputs": [
        {
          "output_type": "stream",
          "name": "stdout",
          "text": [
            "Persentil ke-90: 97.2\n"
          ]
        }
      ]
    },
    {
      "cell_type": "code",
      "source": [
        "import numpy as np\n",
        "\n",
        "data = [3, 4, 4, 5, 5, 6, 6, 7, 8, 8, 9, 10]\n",
        "\n",
        "Q1 = np.median(data[:int(len(data)/2)])\n",
        "Q3 = np.median(data[int(len(data)/2):])\n",
        "IQR = Q3 - Q1\n",
        "print(\"Q1:\", Q1)\n",
        "print(\"Q3:\", Q3)\n",
        "print(\"IQR:\", IQR)\n"
      ],
      "metadata": {
        "colab": {
          "base_uri": "https://localhost:8080/"
        },
        "id": "1NKI3yv6keYW",
        "outputId": "3ad90bc7-b57f-45d7-a1d8-3ae0f0f51256"
      },
      "execution_count": null,
      "outputs": [
        {
          "output_type": "stream",
          "name": "stdout",
          "text": [
            "Q1: 4.5\n",
            "Q3: 8.0\n",
            "IQR: 3.5\n"
          ]
        }
      ]
    },
    {
      "cell_type": "code",
      "source": [
        "import numpy as np\n",
        "\n",
        "data = [86, 87, 88, 86, 87, 85, 86]\n",
        "\n",
        "mean = np.mean(data)\n",
        "var = np.var(data)\n",
        "std = np.std(data)\n",
        "print(\"Mean:\", mean)\n",
        "print(\"Variance:\", var)\n",
        "print(\"Standard Deviation:\", std)\n"
      ],
      "metadata": {
        "colab": {
          "base_uri": "https://localhost:8080/"
        },
        "id": "KVHx0LoWkt7b",
        "outputId": "36d7f196-8db7-475b-fa43-9a7a8d1609ff"
      },
      "execution_count": null,
      "outputs": [
        {
          "output_type": "stream",
          "name": "stdout",
          "text": [
            "Mean: 86.42857142857143\n",
            "Variance: 0.8163265306122449\n",
            "Standard Deviation: 0.9035079029052513\n"
          ]
        }
      ]
    },
    {
      "cell_type": "markdown",
      "source": [
        "## Tugas Praktikum"
      ],
      "metadata": {
        "id": "vLpz9is5k85L"
      }
    },
    {
      "cell_type": "code",
      "source": [
        "from scipy import stats\n",
        "\n",
        "data = [1, 2, 3, 4, 5, 5, 6, 2, 3, 4, 5, 6, 6, 4, 3, 2, 1, 4, 3, 5, 6, 6, 5, 4, 5]\n",
        "\n",
        "x = stats.mode(data, keepdims=True)\n",
        "print(\"Modus:\", x.mode[0])\n",
        "print(\"Jumlah kemunculan:\", x.count[0])\n"
      ],
      "metadata": {
        "colab": {
          "base_uri": "https://localhost:8080/"
        },
        "id": "4NILVWiXlA-k",
        "outputId": "10268d06-2bda-419f-c3a9-ba1c23ab833f"
      },
      "execution_count": null,
      "outputs": [
        {
          "output_type": "stream",
          "name": "stdout",
          "text": [
            "Modus: 5\n",
            "Jumlah kemunculan: 6\n"
          ]
        }
      ]
    },
    {
      "cell_type": "code",
      "source": [
        "import numpy as np\n",
        "\n",
        "data = [9, 10, 11, 6, 8, 7, 7, 5, 4, 5]\n",
        "\n",
        "p25 = np.percentile(data, 25)\n",
        "p75 = np.percentile(data, 75)\n",
        "print(\"Persentil ke-25:\", p25)\n",
        "print(\"Persentil ke-75:\", p75)\n"
      ],
      "metadata": {
        "colab": {
          "base_uri": "https://localhost:8080/"
        },
        "id": "T8O-WX3wlT5Q",
        "outputId": "07333426-0aba-4e48-f24e-fe5f0da21e89"
      },
      "execution_count": null,
      "outputs": [
        {
          "output_type": "stream",
          "name": "stdout",
          "text": [
            "Persentil ke-25: 5.25\n",
            "Persentil ke-75: 8.75\n"
          ]
        }
      ]
    },
    {
      "cell_type": "code",
      "source": [
        "\n",
        "data = [50, 54, 62, 50, 52, 59, 61, 63, 65, 10, 53, 63, 65, 50, 59, 62, 50, 51, 57, 60, 63, 65, 65, 53, 99]\n",
        "sorted_data = sorted(data)\n",
        "print(\"Data urut:\", sorted_data)\n",
        "\n",
        "\n"
      ],
      "metadata": {
        "id": "nFDHOYZIlU6r",
        "colab": {
          "base_uri": "https://localhost:8080/"
        },
        "outputId": "aed213eb-d5c4-48c6-c7b3-d8df06157dec"
      },
      "execution_count": 15,
      "outputs": [
        {
          "output_type": "stream",
          "name": "stdout",
          "text": [
            "Data urut: [10, 50, 50, 50, 50, 51, 52, 53, 53, 54, 57, 59, 59, 60, 61, 62, 62, 63, 63, 63, 65, 65, 65, 65, 99]\n"
          ]
        }
      ]
    }
  ]
}