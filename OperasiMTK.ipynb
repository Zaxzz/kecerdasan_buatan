{
  "nbformat": 4,
  "nbformat_minor": 0,
  "metadata": {
    "colab": {
      "provenance": [],
      "toc_visible": true,
      "authorship_tag": "ABX9TyOTt7Kg4NS6fhQ3omTotrKm",
      "include_colab_link": true
    },
    "kernelspec": {
      "name": "python3",
      "display_name": "Python 3"
    },
    "language_info": {
      "name": "python"
    }
  },
  "cells": [
    {
      "cell_type": "markdown",
      "metadata": {
        "id": "view-in-github",
        "colab_type": "text"
      },
      "source": [
        "<a href=\"https://colab.research.google.com/github/Zaxzz/kecerdasan_buatan/blob/main/OperasiMTK.ipynb\" target=\"_parent\"><img src=\"https://colab.research.google.com/assets/colab-badge.svg\" alt=\"Open In Colab\"/></a>"
      ]
    },
    {
      "cell_type": "markdown",
      "source": [
        "# JOBSHEET 2"
      ],
      "metadata": {
        "id": "ClRZcVWvpjdd"
      }
    },
    {
      "cell_type": "markdown",
      "source": [
        "# OPERASI MATEMATIKA, VEKTOR, MATRIKS DAN TIPE DATA"
      ],
      "metadata": {
        "id": "9mFhg5dlp8Y5"
      }
    },
    {
      "cell_type": "markdown",
      "source": [
        "## 2.\tOperasi matematika menggunakan python"
      ],
      "metadata": {
        "id": "g2YR3o8XpoHb"
      }
    },
    {
      "cell_type": "code",
      "source": [
        "x = min(5, 10, 25)\n",
        "y = max(6, 12, 18)\n",
        "\n",
        "print(x, y)"
      ],
      "metadata": {
        "colab": {
          "base_uri": "https://localhost:8080/"
        },
        "id": "wrbjXWyBqCuR",
        "outputId": "bb0371de-f2b5-4901-a0d4-45cf81490653"
      },
      "execution_count": 3,
      "outputs": [
        {
          "output_type": "stream",
          "name": "stdout",
          "text": [
            "5 18\n"
          ]
        }
      ]
    },
    {
      "cell_type": "code",
      "source": [],
      "metadata": {
        "id": "7ek4g7vjqGsG"
      },
      "execution_count": null,
      "outputs": []
    }
  ]
}