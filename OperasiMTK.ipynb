{
  "nbformat": 4,
  "nbformat_minor": 0,
  "metadata": {
    "colab": {
      "provenance": [],
      "toc_visible": true,
      "authorship_tag": "ABX9TyMEo7Ppb8aZ9YiZXpVkIXYr",
      "include_colab_link": true
    },
    "kernelspec": {
      "name": "python3",
      "display_name": "Python 3"
    },
    "language_info": {
      "name": "python"
    }
  },
  "cells": [
    {
      "cell_type": "markdown",
      "metadata": {
        "id": "view-in-github",
        "colab_type": "text"
      },
      "source": [
        "<a href=\"https://colab.research.google.com/github/Zaxzz/kecerdasan_buatan/blob/main/OperasiMTK.ipynb\" target=\"_parent\"><img src=\"https://colab.research.google.com/assets/colab-badge.svg\" alt=\"Open In Colab\"/></a>"
      ]
    },
    {
      "cell_type": "markdown",
      "source": [
        "# JOBSHEET 2"
      ],
      "metadata": {
        "id": "ClRZcVWvpjdd"
      }
    },
    {
      "cell_type": "markdown",
      "source": [
        "# OPERASI MATEMATIKA, VEKTOR, MATRIKS DAN TIPE DATA"
      ],
      "metadata": {
        "id": "9mFhg5dlp8Y5"
      }
    },
    {
      "cell_type": "markdown",
      "source": [
        "## 2.\tOperasi matematika menggunakan python"
      ],
      "metadata": {
        "id": "g2YR3o8XpoHb"
      }
    },
    {
      "cell_type": "code",
      "source": [
        "x = min(5, 10, 25)\n",
        "y = max(6, 12, 18)\n",
        "\n",
        "print(x, y)"
      ],
      "metadata": {
        "colab": {
          "base_uri": "https://localhost:8080/"
        },
        "id": "wrbjXWyBqCuR",
        "outputId": "bb0371de-f2b5-4901-a0d4-45cf81490653"
      },
      "execution_count": 3,
      "outputs": [
        {
          "output_type": "stream",
          "name": "stdout",
          "text": [
            "5 18\n"
          ]
        }
      ]
    },
    {
      "cell_type": "code",
      "source": [
        "x = abs(-7.25)\n",
        "print(x)"
      ],
      "metadata": {
        "colab": {
          "base_uri": "https://localhost:8080/"
        },
        "id": "7ek4g7vjqGsG",
        "outputId": "de552bd3-b965-49f6-e17f-cabb161acbae"
      },
      "execution_count": 4,
      "outputs": [
        {
          "output_type": "stream",
          "name": "stdout",
          "text": [
            "7.25\n"
          ]
        }
      ]
    },
    {
      "cell_type": "code",
      "source": [
        "import math\n",
        "x = math.pow(4, 3)\n",
        "print(x)"
      ],
      "metadata": {
        "colab": {
          "base_uri": "https://localhost:8080/"
        },
        "id": "A68nQsYaqdPY",
        "outputId": "cfa9b5e1-e4b8-4b0e-d7b8-0e5f125d4729"
      },
      "execution_count": 5,
      "outputs": [
        {
          "output_type": "stream",
          "name": "stdout",
          "text": [
            "64.0\n"
          ]
        }
      ]
    },
    {
      "cell_type": "code",
      "source": [
        "import math\n",
        "x = math.sqrt(64)\n",
        "print(x)"
      ],
      "metadata": {
        "colab": {
          "base_uri": "https://localhost:8080/"
        },
        "id": "1GV2lfwnqgJ5",
        "outputId": "81310899-533f-4eb4-9ac6-19a6617515c7"
      },
      "execution_count": 6,
      "outputs": [
        {
          "output_type": "stream",
          "name": "stdout",
          "text": [
            "8.0\n"
          ]
        }
      ]
    },
    {
      "cell_type": "code",
      "source": [
        "import math\n",
        "x = math.ceil(1.4)\n",
        "y = math.floor(1.4)\n",
        "print(x,y)"
      ],
      "metadata": {
        "colab": {
          "base_uri": "https://localhost:8080/"
        },
        "id": "ZLEP1ExFqlN6",
        "outputId": "d69fee46-fd96-40df-c5c0-186c1ae62fed"
      },
      "execution_count": 7,
      "outputs": [
        {
          "output_type": "stream",
          "name": "stdout",
          "text": [
            "2 1\n"
          ]
        }
      ]
    },
    {
      "cell_type": "code",
      "source": [
        "import math\n",
        "x = math.pi\n",
        "print(x)"
      ],
      "metadata": {
        "colab": {
          "base_uri": "https://localhost:8080/"
        },
        "id": "MstvkZThq3dz",
        "outputId": "79d1e60a-6552-4c5f-c426-84966bc2e427"
      },
      "execution_count": 8,
      "outputs": [
        {
          "output_type": "stream",
          "name": "stdout",
          "text": [
            "3.141592653589793\n"
          ]
        }
      ]
    },
    {
      "cell_type": "markdown",
      "source": [
        "## 3.\tMenggunakan Fungsi MATH"
      ],
      "metadata": {
        "id": "6sKnufvAq8j6"
      }
    },
    {
      "cell_type": "code",
      "source": [
        "import math\n",
        "\n",
        "angka = 10\n",
        "\n",
        "print(\"sin(10)       :\", math.sin(angka))\n",
        "print(\"cos(10)       :\", math.cos(angka))\n",
        "print(\"tan(10)       :\", math.tan(angka))\n",
        "print(\"log(10)       :\", math.log(angka))\n",
        "print(\"log10(10)     :\", math.log10(angka))\n",
        "print(\"degrees(10)   :\", math.degrees(angka))\n",
        "print(\"factorial(10) :\", math.factorial(angka))\n",
        "print(\"fmod(10, 3)   :\", math.fmod(angka, 3))\n",
        "print(\"gamma(10)     :\", math.gamma(angka))\n",
        "print(\"perm(10, 3)   :\", math.perm(10, 3))\n",
        "print(\"dist((0,0) ke (10,10)) :\", math.dist([0, 0], [10, 10]))\n",
        "print(\"isnan(float('nan')) :\", math.isnan(float('nan')))\n"
      ],
      "metadata": {
        "colab": {
          "base_uri": "https://localhost:8080/"
        },
        "id": "ATMa_OFKrBqV",
        "outputId": "04e1f30d-a45f-4df6-ac5c-6e7b07d3dcd6"
      },
      "execution_count": 10,
      "outputs": [
        {
          "output_type": "stream",
          "name": "stdout",
          "text": [
            "sin(10)       : -0.5440211108893698\n",
            "cos(10)       : -0.8390715290764524\n",
            "tan(10)       : 0.6483608274590866\n",
            "log(10)       : 2.302585092994046\n",
            "log10(10)     : 1.0\n",
            "degrees(10)   : 572.9577951308232\n",
            "factorial(10) : 3628800\n",
            "fmod(10, 3)   : 1.0\n",
            "gamma(10)     : 362880.0\n",
            "perm(10, 3)   : 720\n",
            "dist((0,0) ke (10,10)) : 14.142135623730951\n",
            "isnan(float('nan')) : True\n"
          ]
        }
      ]
    },
    {
      "cell_type": "markdown",
      "source": [
        "## 4.\tOperasi matriks dan vektor dengan python"
      ],
      "metadata": {
        "id": "2y-Wf2-qrc4k"
      }
    },
    {
      "cell_type": "code",
      "source": [
        "import numpy as np\n",
        "\n",
        "A = np.array([[80, 30, 25],\n",
        "              [50, 20, 10]])\n",
        "\n",
        "B = np.array([[30, 60, 15],\n",
        "              [10, 30, 30]])\n",
        "\n",
        "hasil = A + B\n",
        "\n",
        "print(\"Matriks A:\")\n",
        "print(A)\n",
        "\n",
        "print(\"\\nMatriks B:\")\n",
        "print(B)\n",
        "\n",
        "print(\"\\nHasil Penjumlahan A + B:\")\n",
        "print(hasil)\n"
      ],
      "metadata": {
        "colab": {
          "base_uri": "https://localhost:8080/"
        },
        "id": "thPeqA8Yrgiu",
        "outputId": "7fbb4306-ce13-402a-b4b8-ab90d2f58e8d"
      },
      "execution_count": 13,
      "outputs": [
        {
          "output_type": "stream",
          "name": "stdout",
          "text": [
            "Matriks A:\n",
            "[[80 30 25]\n",
            " [50 20 10]]\n",
            "\n",
            "Matriks B:\n",
            "[[30 60 15]\n",
            " [10 30 30]]\n",
            "\n",
            "Hasil Penjumlahan A + B:\n",
            "[[110  90  40]\n",
            " [ 60  50  40]]\n"
          ]
        }
      ]
    },
    {
      "cell_type": "code",
      "source": [
        "import numpy as np\n",
        "\n",
        "A = np.array([10, 20, 15])\n",
        "B = np.array([16, 67, 35])\n",
        "\n",
        "hasil = np.dot(A, B)\n",
        "\n",
        "print(\"Vektor A:\", A)\n",
        "print(\"Vektor B:\", B)\n",
        "print(\"Hasil Dot Product A • B:\", hasil)\n"
      ],
      "metadata": {
        "colab": {
          "base_uri": "https://localhost:8080/"
        },
        "id": "9lUGm0A_ry5A",
        "outputId": "c558119a-1e9d-4157-d1ba-cb627e7eaeb6"
      },
      "execution_count": 16,
      "outputs": [
        {
          "output_type": "stream",
          "name": "stdout",
          "text": [
            "Vektor A: [10 20 15]\n",
            "Vektor B: [16 67 35]\n",
            "Hasil Dot Product A • B: 2025\n"
          ]
        }
      ]
    },
    {
      "cell_type": "code",
      "source": [
        "import numpy as np\n",
        "\n",
        "A = np.array([10, 20, 15])\n",
        "B = np.array([16, 67, 35])\n",
        "\n",
        "Hasil = np.cross(A, B)\n",
        "\n",
        "print(\"Vektor A:\", A)\n",
        "print(\"Vektor B:\", B)\n",
        "print(\"Hasil Cross Product A × B:\", Hasil)\n"
      ],
      "metadata": {
        "colab": {
          "base_uri": "https://localhost:8080/"
        },
        "id": "5l0gT_8BsLlX",
        "outputId": "f4c9b077-d799-4554-da62-1819a6bbff74"
      },
      "execution_count": 18,
      "outputs": [
        {
          "output_type": "stream",
          "name": "stdout",
          "text": [
            "Vektor A: [10 20 15]\n",
            "Vektor B: [16 67 35]\n",
            "Hasil Cross Product A × B: [-305 -110  350]\n"
          ]
        }
      ]
    },
    {
      "cell_type": "markdown",
      "source": [
        "## Tugas Praktikum"
      ],
      "metadata": {
        "id": "8TSj2jpztAsd"
      }
    },
    {
      "cell_type": "code",
      "source": [
        "import numpy as np\n",
        "\n",
        "A = np.array([[3, 1],\n",
        "              [2, 0]])\n",
        "\n",
        "B = np.array([[2, 1],\n",
        "              [1, -1]])\n",
        "\n",
        "C = np.array([[-1, 1, 2],\n",
        "              [2, 0, -1]])\n",
        "\n",
        "AxB = np.dot(A, B)\n",
        "BxC = np.dot(B, C)\n",
        "\n",
        "print(\"Matriks A:\")\n",
        "print(A)\n",
        "\n",
        "print(\"\\nMatriks B:\")\n",
        "print(B)\n",
        "\n",
        "print(\"\\nMatriks C:\")\n",
        "print(C)\n",
        "\n",
        "print(\"\\nHasil A × B:\")\n",
        "print(AxB)\n",
        "\n",
        "print(\"\\nHasil B × C:\")\n",
        "print(BxC)\n"
      ],
      "metadata": {
        "id": "ITxBX7EytSby",
        "colab": {
          "base_uri": "https://localhost:8080/"
        },
        "outputId": "14a862d3-3276-4f8d-ba97-742e49162366"
      },
      "execution_count": 21,
      "outputs": [
        {
          "output_type": "stream",
          "name": "stdout",
          "text": [
            "Matriks A:\n",
            "[[3 1]\n",
            " [2 0]]\n",
            "\n",
            "Matriks B:\n",
            "[[ 2  1]\n",
            " [ 1 -1]]\n",
            "\n",
            "Matriks C:\n",
            "[[-1  1  2]\n",
            " [ 2  0 -1]]\n",
            "\n",
            "Hasil A × B:\n",
            "[[7 2]\n",
            " [4 2]]\n",
            "\n",
            "Hasil B × C:\n",
            "[[ 0  2  3]\n",
            " [-3  1  3]]\n"
          ]
        }
      ]
    },
    {
      "cell_type": "code",
      "source": [
        "import math\n",
        "\n",
        "a = math.factorial(6)\n",
        "b = math.factorial(8) / math.factorial(5)\n",
        "\n",
        "print(\"a. 6! =\", a)\n",
        "print(\"b. 8! / 5! =\", b)\n"
      ],
      "metadata": {
        "colab": {
          "base_uri": "https://localhost:8080/"
        },
        "id": "wIWBhbEWud3u",
        "outputId": "fe581864-be05-4e62-ac25-3a94edcba987"
      },
      "execution_count": 22,
      "outputs": [
        {
          "output_type": "stream",
          "name": "stdout",
          "text": [
            "a. 6! = 720\n",
            "b. 8! / 5! = 336.0\n"
          ]
        }
      ]
    },
    {
      "cell_type": "code",
      "source": [
        "import numpy as np\n",
        "\n",
        "A = np.array([5, 3, 7])\n",
        "B = np.array([12, -3, 1])\n",
        "\n",
        "magnitude_A = np.linalg.norm(A)\n",
        "magnitude_B = np.linalg.norm(B)\n",
        "\n",
        "dot_product = np.dot(A, B)\n",
        "\n",
        "cross_product = np.cross(A, B)\n",
        "\n",
        "print(\"Panjang Vektor A:\", round(magnitude_A, 2))\n",
        "print(\"Panjang Vektor B:\", round(magnitude_B, 2))\n",
        "print(\"\\nHasil Perkalian Titik (A . B):\", dot_product)\n",
        "print(\"\\nHasil Perkalian Silang (A × B):\", cross_product)\n"
      ],
      "metadata": {
        "colab": {
          "base_uri": "https://localhost:8080/"
        },
        "id": "NCie9zjxumd2",
        "outputId": "c7c63ca0-238f-4f62-a2d5-bb8adaf49e8c"
      },
      "execution_count": 25,
      "outputs": [
        {
          "output_type": "stream",
          "name": "stdout",
          "text": [
            "Panjang Vektor A: 9.11\n",
            "Panjang Vektor B: 12.41\n",
            "\n",
            "Hasil Perkalian Titik (A . B): 58\n",
            "\n",
            "Hasil Perkalian Silang (A × B): [ 24  79 -51]\n"
          ]
        }
      ]
    }
  ]
}